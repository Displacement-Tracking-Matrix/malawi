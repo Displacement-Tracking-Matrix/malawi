{
 "cells": [
  {
   "cell_type": "code",
   "execution_count": 5,
   "id": "c8721be8",
   "metadata": {},
   "outputs": [
    {
     "name": "stdout",
     "output_type": "stream",
     "text": [
      "shape: (5, 7)\n",
      "┌──────────────┬──────────────┬──────────────┬─────────────┬────────────┬───────────┬──────────────┐\n",
      "│ TA_PCODE_GIS ┆ TA_Name      ┆ District_Nam ┆ Region_Name ┆ Latitude   ┆ Longitude ┆ geometry     │\n",
      "│ ---          ┆ ---          ┆ e            ┆ ---         ┆ ---        ┆ ---       ┆ ---          │\n",
      "│ str          ┆ str          ┆ ---          ┆ str         ┆ f64        ┆ f64       ┆ str          │\n",
      "│              ┆              ┆ str          ┆             ┆            ┆           ┆              │\n",
      "╞══════════════╪══════════════╪══════════════╪═════════════╪════════════╪═══════════╪══════════════╡\n",
      "│ MW10101      ┆ TA           ┆ Chitipa      ┆ Northern    ┆ -9.759365  ┆ 33.372102 ┆ POINT        │\n",
      "│              ┆ Mwabulambya  ┆              ┆             ┆            ┆           ┆ (33.372102   │\n",
      "│              ┆              ┆              ┆             ┆            ┆           ┆ -9.759365)   │\n",
      "│ MW10102      ┆ STA Bulambya ┆ Chitipa      ┆ Northern    ┆ -9.563646  ┆ 33.290993 ┆ POINT        │\n",
      "│              ┆ Songwe       ┆              ┆             ┆            ┆           ┆ (33.290993   │\n",
      "│              ┆              ┆              ┆             ┆            ┆           ┆ -9.563646)   │\n",
      "│ MW10103      ┆ TA           ┆ Chitipa      ┆ Northern    ┆ -9.745508  ┆ 33.535586 ┆ POINT        │\n",
      "│              ┆ Mwenemisuku  ┆              ┆             ┆            ┆           ┆ (33.535586   │\n",
      "│              ┆              ┆              ┆             ┆            ┆           ┆ -9.745508)   │\n",
      "│ MW10104      ┆ STA Lwangwa  ┆ Chitipa      ┆ Northern    ┆ -9.662173  ┆ 33.6127   ┆ POINT        │\n",
      "│              ┆              ┆              ┆             ┆            ┆           ┆ (33.6127     │\n",
      "│              ┆              ┆              ┆             ┆            ┆           ┆ -9.662173)   │\n",
      "│ MW10105      ┆ TA           ┆ Chitipa      ┆ Northern    ┆ -10.058799 ┆ 33.480848 ┆ POINT        │\n",
      "│              ┆ Mwenewenya   ┆              ┆             ┆            ┆           ┆ (33.480848   │\n",
      "│              ┆              ┆              ┆             ┆            ┆           ┆ -10.058799)  │\n",
      "└──────────────┴──────────────┴──────────────┴─────────────┴────────────┴───────────┴──────────────┘\n"
     ]
    }
   ],
   "source": [
    "import polars as pl\n",
    "from azure.identity import InteractiveBrowserCredential\n",
    "from azure.storage.filedatalake import DataLakeFileClient\n",
    "\n",
    "# ABFS path details\n",
    "filesystem_name = \"5a67e7d9-d47a-4b06-a89f-fecf731b5d43\"\n",
    "account_name = \"onelake\"\n",
    "file_path = \"edc2267b-dc94-4ff8-be27-a9fa7a91c6d8/Files/mwi.parquet\"\n",
    "\n",
    "# Build the full URL\n",
    "url = f\"https://{account_name}.dfs.fabric.microsoft.com/{filesystem_name}/{file_path}\"\n",
    "\n",
    "# Authenticate with browser\n",
    "credential = InteractiveBrowserCredential()\n",
    "\n",
    "# Create file client\n",
    "file_client = DataLakeFileClient(account_url=f\"https://{account_name}.dfs.fabric.microsoft.com\",\n",
    "                                 file_system_name=filesystem_name,\n",
    "                                 file_path=file_path,\n",
    "                                 credential=credential)\n",
    "\n",
    "# Download the file content into memory\n",
    "download = file_client.download_file()\n",
    "file_bytes = download.readall()\n",
    "\n",
    "# Read it into Polars\n",
    "df = pl.read_parquet(file_bytes)\n",
    "\n",
    "# Show result\n",
    "print(df.head())"
   ]
  },
  {
   "cell_type": "code",
   "execution_count": 6,
   "id": "0128b554",
   "metadata": {},
   "outputs": [
    {
     "data": {
      "text/html": [
       "<div><style>\n",
       ".dataframe > thead > tr,\n",
       ".dataframe > tbody > tr {\n",
       "  text-align: right;\n",
       "  white-space: pre-wrap;\n",
       "}\n",
       "</style>\n",
       "<small>shape: (433, 7)</small><table border=\"1\" class=\"dataframe\"><thead><tr><th>TA_PCODE_GIS</th><th>TA_Name</th><th>District_Name</th><th>Region_Name</th><th>Latitude</th><th>Longitude</th><th>geometry</th></tr><tr><td>str</td><td>str</td><td>str</td><td>str</td><td>f64</td><td>f64</td><td>str</td></tr></thead><tbody><tr><td>&quot;MW10101&quot;</td><td>&quot;TA Mwabulambya&quot;</td><td>&quot;Chitipa&quot;</td><td>&quot;Northern&quot;</td><td>-9.759365</td><td>33.372102</td><td>&quot;POINT (33.372102 -9.759365)&quot;</td></tr><tr><td>&quot;MW10102&quot;</td><td>&quot;STA Bulambya Songwe&quot;</td><td>&quot;Chitipa&quot;</td><td>&quot;Northern&quot;</td><td>-9.563646</td><td>33.290993</td><td>&quot;POINT (33.290993 -9.563646)&quot;</td></tr><tr><td>&quot;MW10103&quot;</td><td>&quot;TA Mwenemisuku&quot;</td><td>&quot;Chitipa&quot;</td><td>&quot;Northern&quot;</td><td>-9.745508</td><td>33.535586</td><td>&quot;POINT (33.535586 -9.745508)&quot;</td></tr><tr><td>&quot;MW10104&quot;</td><td>&quot;STA Lwangwa&quot;</td><td>&quot;Chitipa&quot;</td><td>&quot;Northern&quot;</td><td>-9.662173</td><td>33.6127</td><td>&quot;POINT (33.6127 -9.662173)&quot;</td></tr><tr><td>&quot;MW10105&quot;</td><td>&quot;TA Mwenewenya&quot;</td><td>&quot;Chitipa&quot;</td><td>&quot;Northern&quot;</td><td>-10.058799</td><td>33.480848</td><td>&quot;POINT (33.480848 -10.058799)&quot;</td></tr><tr><td>&hellip;</td><td>&hellip;</td><td>&hellip;</td><td>&hellip;</td><td>&hellip;</td><td>&hellip;</td><td>&hellip;</td></tr><tr><td>&quot;MW31549&quot;</td><td>&quot;Green Corner Ward&quot;</td><td>&quot;Blantyre City&quot;</td><td>&quot;Southern&quot;</td><td>-15.832863</td><td>34.99409</td><td>&quot;POINT (34.99409 -15.832863)&quot;</td></tr><tr><td>&quot;MW31550&quot;</td><td>&quot;Soche West Ward&quot;</td><td>&quot;Blantyre City&quot;</td><td>&quot;Southern&quot;</td><td>-15.831818</td><td>35.022516</td><td>&quot;POINT (35.022516 -15.831818)&quot;</td></tr><tr><td>&quot;MW31551&quot;</td><td>&quot;Namiyango Ward&quot;</td><td>&quot;Blantyre City&quot;</td><td>&quot;Southern&quot;</td><td>-15.839612</td><td>35.082657</td><td>&quot;POINT (35.082657 -15.839612)&quot;</td></tr><tr><td>&quot;MW31552&quot;</td><td>&quot;Chigumula Ward&quot;</td><td>&quot;Blantyre City&quot;</td><td>&quot;Southern&quot;</td><td>-15.867674</td><td>35.0783</td><td>&quot;POINT (35.0783 -15.867674)&quot;</td></tr><tr><td>&quot;MW31553&quot;</td><td>&quot;Misesa Ward&quot;</td><td>&quot;Blantyre City&quot;</td><td>&quot;Southern&quot;</td><td>-15.841277</td><td>35.047021</td><td>&quot;POINT (35.047021 -15.841277)&quot;</td></tr></tbody></table></div>"
      ],
      "text/plain": [
       "shape: (433, 7)\n",
       "┌──────────────┬──────────────┬──────────────┬─────────────┬────────────┬───────────┬──────────────┐\n",
       "│ TA_PCODE_GIS ┆ TA_Name      ┆ District_Nam ┆ Region_Name ┆ Latitude   ┆ Longitude ┆ geometry     │\n",
       "│ ---          ┆ ---          ┆ e            ┆ ---         ┆ ---        ┆ ---       ┆ ---          │\n",
       "│ str          ┆ str          ┆ ---          ┆ str         ┆ f64        ┆ f64       ┆ str          │\n",
       "│              ┆              ┆ str          ┆             ┆            ┆           ┆              │\n",
       "╞══════════════╪══════════════╪══════════════╪═════════════╪════════════╪═══════════╪══════════════╡\n",
       "│ MW10101      ┆ TA           ┆ Chitipa      ┆ Northern    ┆ -9.759365  ┆ 33.372102 ┆ POINT        │\n",
       "│              ┆ Mwabulambya  ┆              ┆             ┆            ┆           ┆ (33.372102   │\n",
       "│              ┆              ┆              ┆             ┆            ┆           ┆ -9.759365)   │\n",
       "│ MW10102      ┆ STA Bulambya ┆ Chitipa      ┆ Northern    ┆ -9.563646  ┆ 33.290993 ┆ POINT        │\n",
       "│              ┆ Songwe       ┆              ┆             ┆            ┆           ┆ (33.290993   │\n",
       "│              ┆              ┆              ┆             ┆            ┆           ┆ -9.563646)   │\n",
       "│ MW10103      ┆ TA           ┆ Chitipa      ┆ Northern    ┆ -9.745508  ┆ 33.535586 ┆ POINT        │\n",
       "│              ┆ Mwenemisuku  ┆              ┆             ┆            ┆           ┆ (33.535586   │\n",
       "│              ┆              ┆              ┆             ┆            ┆           ┆ -9.745508)   │\n",
       "│ MW10104      ┆ STA Lwangwa  ┆ Chitipa      ┆ Northern    ┆ -9.662173  ┆ 33.6127   ┆ POINT        │\n",
       "│              ┆              ┆              ┆             ┆            ┆           ┆ (33.6127     │\n",
       "│              ┆              ┆              ┆             ┆            ┆           ┆ -9.662173)   │\n",
       "│ MW10105      ┆ TA           ┆ Chitipa      ┆ Northern    ┆ -10.058799 ┆ 33.480848 ┆ POINT        │\n",
       "│              ┆ Mwenewenya   ┆              ┆             ┆            ┆           ┆ (33.480848   │\n",
       "│              ┆              ┆              ┆             ┆            ┆           ┆ -10.058799)  │\n",
       "│ …            ┆ …            ┆ …            ┆ …           ┆ …          ┆ …         ┆ …            │\n",
       "│ MW31549      ┆ Green Corner ┆ Blantyre     ┆ Southern    ┆ -15.832863 ┆ 34.99409  ┆ POINT        │\n",
       "│              ┆ Ward         ┆ City         ┆             ┆            ┆           ┆ (34.99409    │\n",
       "│              ┆              ┆              ┆             ┆            ┆           ┆ -15.832863)  │\n",
       "│ MW31550      ┆ Soche West   ┆ Blantyre     ┆ Southern    ┆ -15.831818 ┆ 35.022516 ┆ POINT        │\n",
       "│              ┆ Ward         ┆ City         ┆             ┆            ┆           ┆ (35.022516   │\n",
       "│              ┆              ┆              ┆             ┆            ┆           ┆ -15.831818)  │\n",
       "│ MW31551      ┆ Namiyango    ┆ Blantyre     ┆ Southern    ┆ -15.839612 ┆ 35.082657 ┆ POINT        │\n",
       "│              ┆ Ward         ┆ City         ┆             ┆            ┆           ┆ (35.082657   │\n",
       "│              ┆              ┆              ┆             ┆            ┆           ┆ -15.839612)  │\n",
       "│ MW31552      ┆ Chigumula    ┆ Blantyre     ┆ Southern    ┆ -15.867674 ┆ 35.0783   ┆ POINT        │\n",
       "│              ┆ Ward         ┆ City         ┆             ┆            ┆           ┆ (35.0783     │\n",
       "│              ┆              ┆              ┆             ┆            ┆           ┆ -15.867674)  │\n",
       "│ MW31553      ┆ Misesa Ward  ┆ Blantyre     ┆ Southern    ┆ -15.841277 ┆ 35.047021 ┆ POINT        │\n",
       "│              ┆              ┆ City         ┆             ┆            ┆           ┆ (35.047021   │\n",
       "│              ┆              ┆              ┆             ┆            ┆           ┆ -15.841277)  │\n",
       "└──────────────┴──────────────┴──────────────┴─────────────┴────────────┴───────────┴──────────────┘"
      ]
     },
     "execution_count": 6,
     "metadata": {},
     "output_type": "execute_result"
    }
   ],
   "source": [
    "df"
   ]
  },
  {
   "cell_type": "code",
   "execution_count": null,
   "id": "48bc18a6",
   "metadata": {},
   "outputs": [],
   "source": []
  }
 ],
 "metadata": {
  "kernelspec": {
   "display_name": "default",
   "language": "python",
   "name": "python3"
  },
  "language_info": {
   "codemirror_mode": {
    "name": "ipython",
    "version": 3
   },
   "file_extension": ".py",
   "mimetype": "text/x-python",
   "name": "python",
   "nbconvert_exporter": "python",
   "pygments_lexer": "ipython3",
   "version": "3.13.3"
  }
 },
 "nbformat": 4,
 "nbformat_minor": 5
}
